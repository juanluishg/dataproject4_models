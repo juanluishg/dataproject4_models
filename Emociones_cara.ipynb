{
 "cells": [
  {
   "cell_type": "code",
   "execution_count": 1,
   "metadata": {},
   "outputs": [],
   "source": [
    "#!pip install fastai\n",
    "import pandas as pd\n",
    "import numpy as np\n",
    "from matplotlib import pyplot as plt\n",
    "import scipy.io as sio\n",
    "import seaborn as sns\n",
    "from keras.models import Model\n",
    "from sklearn.metrics import confusion_matrix\n",
    "from keras import models\n",
    "from keras.layers import Dense, Dropout, Flatten, Conv2D, MaxPool2D\n",
    "from keras.optimizers import RMSprop,Adam\n",
    "from keras.utils import to_categorical\n",
    "from tensorflow.keras.preprocessing.image import * "
   ]
  },
  {
   "cell_type": "code",
   "execution_count": 2,
   "metadata": {},
   "outputs": [],
   "source": [
    "data = pd.read_csv('./icml_face_data.csv')"
   ]
  },
  {
   "cell_type": "code",
   "execution_count": 3,
   "metadata": {},
   "outputs": [
    {
     "name": "stdout",
     "output_type": "stream",
     "text": [
      "(35887, 3)\n"
     ]
    },
    {
     "data": {
      "text/html": [
       "<div>\n",
       "<style scoped>\n",
       "    .dataframe tbody tr th:only-of-type {\n",
       "        vertical-align: middle;\n",
       "    }\n",
       "\n",
       "    .dataframe tbody tr th {\n",
       "        vertical-align: top;\n",
       "    }\n",
       "\n",
       "    .dataframe thead th {\n",
       "        text-align: right;\n",
       "    }\n",
       "</style>\n",
       "<table border=\"1\" class=\"dataframe\">\n",
       "  <thead>\n",
       "    <tr style=\"text-align: right;\">\n",
       "      <th></th>\n",
       "      <th>emotion</th>\n",
       "      <th>Usage</th>\n",
       "      <th>pixels</th>\n",
       "    </tr>\n",
       "  </thead>\n",
       "  <tbody>\n",
       "    <tr>\n",
       "      <th>0</th>\n",
       "      <td>0</td>\n",
       "      <td>Training</td>\n",
       "      <td>70 80 82 72 58 58 60 63 54 58 60 48 89 115 121...</td>\n",
       "    </tr>\n",
       "    <tr>\n",
       "      <th>1</th>\n",
       "      <td>0</td>\n",
       "      <td>Training</td>\n",
       "      <td>151 150 147 155 148 133 111 140 170 174 182 15...</td>\n",
       "    </tr>\n",
       "    <tr>\n",
       "      <th>2</th>\n",
       "      <td>2</td>\n",
       "      <td>Training</td>\n",
       "      <td>231 212 156 164 174 138 161 173 182 200 106 38...</td>\n",
       "    </tr>\n",
       "    <tr>\n",
       "      <th>3</th>\n",
       "      <td>4</td>\n",
       "      <td>Training</td>\n",
       "      <td>24 32 36 30 32 23 19 20 30 41 21 22 32 34 21 1...</td>\n",
       "    </tr>\n",
       "    <tr>\n",
       "      <th>4</th>\n",
       "      <td>6</td>\n",
       "      <td>Training</td>\n",
       "      <td>4 0 0 0 0 0 0 0 0 0 0 0 3 15 23 28 48 50 58 84...</td>\n",
       "    </tr>\n",
       "  </tbody>\n",
       "</table>\n",
       "</div>"
      ],
      "text/plain": [
       "   emotion     Usage                                             pixels\n",
       "0        0  Training  70 80 82 72 58 58 60 63 54 58 60 48 89 115 121...\n",
       "1        0  Training  151 150 147 155 148 133 111 140 170 174 182 15...\n",
       "2        2  Training  231 212 156 164 174 138 161 173 182 200 106 38...\n",
       "3        4  Training  24 32 36 30 32 23 19 20 30 41 21 22 32 34 21 1...\n",
       "4        6  Training  4 0 0 0 0 0 0 0 0 0 0 0 3 15 23 28 48 50 58 84..."
      ]
     },
     "execution_count": 3,
     "metadata": {},
     "output_type": "execute_result"
    }
   ],
   "source": [
    "print(data.shape)\n",
    "data.head()"
   ]
  },
  {
   "cell_type": "code",
   "execution_count": 4,
   "metadata": {},
   "outputs": [],
   "source": [
    "data['pixels'] = data[' pixels']"
   ]
  },
  {
   "cell_type": "code",
   "execution_count": 5,
   "metadata": {},
   "outputs": [],
   "source": [
    "data['pixels'] = data['pixels'].apply (lambda x : x.split(' '))\n",
    "data['pixels'] = data['pixels'].apply (lambda x : np.reshape(x, (48,48)))"
   ]
  },
  {
   "cell_type": "code",
   "execution_count": 6,
   "metadata": {},
   "outputs": [
    {
     "data": {
      "text/plain": [
       "<matplotlib.image.AxesImage at 0x2ce68304a60>"
      ]
     },
     "execution_count": 6,
     "metadata": {},
     "output_type": "execute_result"
    },
    {
     "data": {
      "image/png": "[encoded data removed]",
      "text/plain": [
       "<Figure size 432x288 with 1 Axes>"
      ]
     },
     "metadata": {
      "needs_background": "light"
     },
     "output_type": "display_data"
    }
   ],
   "source": [
    "plt.imshow(data['pixels'][0].astype(float))"
   ]
  },
  {
   "cell_type": "code",
   "execution_count": 7,
   "metadata": {},
   "outputs": [],
   "source": [
    "def prepare_data(data):\n",
    "    image_array = np.zeros(shape=(len(data), 48, 48))\n",
    "    image_label = np.array(list(map(int, data['emotion'])))\n",
    "    \n",
    "    for i, row in enumerate(data.index):\n",
    "        image = np.fromstring(data.loc[row, ' pixels'], dtype=int, sep=' ')\n",
    "        image = np.reshape(image, (48, 48))\n",
    "        image_array[i] = image\n",
    "        \n",
    "    return image_array, image_label"
   ]
  },
  {
   "cell_type": "code",
   "execution_count": 8,
   "metadata": {},
   "outputs": [],
   "source": [
    "train_image_array, train_image_label = prepare_data(data[data[' Usage']=='Training'])\n",
    "val_image_array, val_image_label = prepare_data(data[data[' Usage']=='PrivateTest'])\n",
    "test_image_array, test_image_label = prepare_data(data[data[' Usage']=='PublicTest'])"
   ]
  },
  {
   "cell_type": "code",
   "execution_count": 9,
   "metadata": {},
   "outputs": [],
   "source": [
    "train_labels = to_categorical(train_image_label)\n",
    "val_labels = to_categorical(val_image_label)\n",
    "test_labels = to_categorical(test_image_label)"
   ]
  },
  {
   "cell_type": "code",
   "execution_count": 10,
   "metadata": {},
   "outputs": [],
   "source": [
    "train_images = train_image_array.reshape((train_image_array.shape[0], 48, 48, 1))\n",
    "train_images = train_images.astype('float32')/255\n",
    "val_images = val_image_array.reshape((val_image_array.shape[0], 48, 48, 1))\n",
    "val_images = val_images.astype('float32')/255\n",
    "test_images = test_image_array.reshape((test_image_array.shape[0], 48, 48, 1))\n",
    "test_images = test_images.astype('float32')/255"
   ]
  },
  {
   "cell_type": "code",
   "execution_count": 11,
   "metadata": {},
   "outputs": [
    {
     "data": {
      "text/plain": [
       "<matplotlib.axes._subplots.AxesSubplot at 0x2ce54f45400>"
      ]
     },
     "execution_count": 11,
     "metadata": {},
     "output_type": "execute_result"
    },
    {
     "data": {
      "image/png": "[encoded data removed]",
      "text/plain": [
       "<Figure size 432x288 with 1 Axes>"
      ]
     },
     "metadata": {
      "needs_background": "light"
     },
     "output_type": "display_data"
    }
   ],
   "source": [
    "sns.countplot(train_image_label)"
   ]
  },
  {
   "cell_type": "code",
   "execution_count": 12,
   "metadata": {
    "scrolled": true
   },
   "outputs": [
    {
     "data": {
      "text/plain": [
       "<matplotlib.axes._subplots.AxesSubplot at 0x2ce55156ca0>"
      ]
     },
     "execution_count": 12,
     "metadata": {},
     "output_type": "execute_result"
    },
    {
     "data": {
      "image/png": "[encoded data removed]",
      "text/plain": [
       "<Figure size 432x288 with 1 Axes>"
      ]
     },
     "metadata": {
      "needs_background": "light"
     },
     "output_type": "display_data"
    }
   ],
   "source": [
    "sns.countplot(val_image_label)"
   ]
  },
  {
   "cell_type": "code",
   "execution_count": 13,
   "metadata": {},
   "outputs": [
    {
     "data": {
      "text/plain": [
       "<matplotlib.axes._subplots.AxesSubplot at 0x2ce550f8fd0>"
      ]
     },
     "execution_count": 13,
     "metadata": {},
     "output_type": "execute_result"
    },
    {
     "data": {
      "image/png": "[encoded data removed]",
      "text/plain": [
       "<Figure size 432x288 with 1 Axes>"
      ]
     },
     "metadata": {
      "needs_background": "light"
     },
     "output_type": "display_data"
    }
   ],
   "source": [
    "sns.countplot(test_image_label)"
   ]
  },
  {
   "cell_type": "code",
   "execution_count": 14,
   "metadata": {},
   "outputs": [],
   "source": [
    "class_weight = dict(zip(range(0, 7), (((data[data[' Usage']=='Training']['emotion'].value_counts()).sort_index())/len(data[data[' Usage']=='Training']['emotion'])).tolist()))"
   ]
  },
  {
   "cell_type": "code",
   "execution_count": 15,
   "metadata": {},
   "outputs": [],
   "source": [
    "datagen = ImageDataGenerator(\n",
    "    featurewise_center=True,\n",
    "    featurewise_std_normalization=True,\n",
    "    rotation_range=20,\n",
    "    width_shift_range=0.2,\n",
    "    height_shift_range=0.2,\n",
    "    horizontal_flip=True,\n",
    "    validation_split=0.2\n",
    "    )"
   ]
  },
  {
   "cell_type": "code",
   "execution_count": 16,
   "metadata": {},
   "outputs": [],
   "source": [
    "#datagen.fit(x_train)"
   ]
  },
  {
   "cell_type": "code",
   "execution_count": 17,
   "metadata": {},
   "outputs": [],
   "source": [
    "model = models.Sequential()\n",
    "model.add(Conv2D(32, (3, 3), activation='relu', input_shape=(48, 48, 1)))\n",
    "model.add(MaxPool2D((2, 2)))\n",
    "model.add(Conv2D(125, (3, 3), activation='relu'))\n",
    "model.add(MaxPool2D((2, 2)))\n",
    "model.add(Conv2D(125, (3, 3), activation='relu'))\n",
    "model.add(MaxPool2D((2, 2)))#\n",
    "model.add(Conv2D(125, (3, 3), activation='relu'))#\n",
    "model.add(Flatten())\n",
    "model.add(Dense(500, activation='relu'))\n",
    "model.add(Dense(7, activation='softmax'))\n",
    "model.compile(optimizer='Adam', loss='categorical_crossentropy', metrics=['accuracy'])"
   ]
  },
  {
   "cell_type": "code",
   "execution_count": 18,
   "metadata": {},
   "outputs": [
    {
     "name": "stdout",
     "output_type": "stream",
     "text": [
      "Model: \"sequential\"\n",
      "_________________________________________________________________\n",
      "Layer (type)                 Output Shape              Param #   \n",
      "=================================================================\n",
      "conv2d (Conv2D)              (None, 46, 46, 32)        320       \n",
      "_________________________________________________________________\n",
      "max_pooling2d (MaxPooling2D) (None, 23, 23, 32)        0         \n",
      "_________________________________________________________________\n",
      "conv2d_1 (Conv2D)            (None, 21, 21, 125)       36125     \n",
      "_________________________________________________________________\n",
      "max_pooling2d_1 (MaxPooling2 (None, 10, 10, 125)       0         \n",
      "_________________________________________________________________\n",
      "conv2d_2 (Conv2D)            (None, 8, 8, 125)         140750    \n",
      "_________________________________________________________________\n",
      "max_pooling2d_2 (MaxPooling2 (None, 4, 4, 125)         0         \n",
      "_________________________________________________________________\n",
      "conv2d_3 (Conv2D)            (None, 2, 2, 125)         140750    \n",
      "_________________________________________________________________\n",
      "flatten (Flatten)            (None, 500)               0         \n",
      "_________________________________________________________________\n",
      "dense (Dense)                (None, 500)               250500    \n",
      "_________________________________________________________________\n",
      "dense_1 (Dense)              (None, 7)                 3507      \n",
      "=================================================================\n",
      "Total params: 571,952\n",
      "Trainable params: 571,952\n",
      "Non-trainable params: 0\n",
      "_________________________________________________________________\n"
     ]
    }
   ],
   "source": [
    "model.summary()"
   ]
  },
  {
   "cell_type": "code",
   "execution_count": 19,
   "metadata": {},
   "outputs": [],
   "source": [
    "batch_size = 0.25*(len(train_images))"
   ]
  },
  {
   "cell_type": "code",
   "execution_count": 20,
   "metadata": {},
   "outputs": [],
   "source": [
    "datagen.fit(train_images)"
   ]
  },
  {
   "cell_type": "code",
   "execution_count": 21,
   "metadata": {},
   "outputs": [
    {
     "name": "stdout",
     "output_type": "stream",
     "text": [
      "Epoch 1/80\n",
      "898/898 [==============================] - 39s 43ms/step - loss: 0.2844 - accuracy: 0.2579 - val_loss: 1.6256 - val_accuracy: 0.3664\n",
      "Epoch 2/80\n",
      "898/898 [==============================] - 38s 42ms/step - loss: 0.2370 - accuracy: 0.4009 - val_loss: 1.5129 - val_accuracy: 0.4366\n",
      "Epoch 3/80\n",
      "898/898 [==============================] - 36s 41ms/step - loss: 0.2163 - accuracy: 0.4575 - val_loss: 1.4039 - val_accuracy: 0.4817\n",
      "Epoch 4/80\n",
      "898/898 [==============================] - 38s 42ms/step - loss: 0.2045 - accuracy: 0.4846 - val_loss: 1.3516 - val_accuracy: 0.4921\n",
      "Epoch 5/80\n",
      "898/898 [==============================] - 36s 40ms/step - loss: 0.1997 - accuracy: 0.5016 - val_loss: 1.3684 - val_accuracy: 0.5007\n",
      "Epoch 6/80\n",
      "898/898 [==============================] - 36s 40ms/step - loss: 0.1956 - accuracy: 0.5156 - val_loss: 1.2774 - val_accuracy: 0.5255\n",
      "Epoch 7/80\n",
      "898/898 [==============================] - 37s 41ms/step - loss: 0.1897 - accuracy: 0.5304 - val_loss: 1.2407 - val_accuracy: 0.5327\n",
      "Epoch 8/80\n",
      "898/898 [==============================] - 38s 42ms/step - loss: 0.1880 - accuracy: 0.5281 - val_loss: 1.2428 - val_accuracy: 0.5450\n",
      "Epoch 9/80\n",
      "898/898 [==============================] - 37s 42ms/step - loss: 0.1842 - accuracy: 0.5453 - val_loss: 1.2462 - val_accuracy: 0.5378\n",
      "Epoch 10/80\n",
      "898/898 [==============================] - 38s 42ms/step - loss: 0.1812 - accuracy: 0.5476 - val_loss: 1.2370 - val_accuracy: 0.5442\n",
      "Epoch 11/80\n",
      "898/898 [==============================] - 38s 42ms/step - loss: 0.1814 - accuracy: 0.5427 - val_loss: 1.2471 - val_accuracy: 0.5322\n",
      "Epoch 12/80\n",
      "898/898 [==============================] - 39s 43ms/step - loss: 0.1781 - accuracy: 0.5599 - val_loss: 1.2151 - val_accuracy: 0.5492\n",
      "Epoch 13/80\n",
      "898/898 [==============================] - 38s 43ms/step - loss: 0.1761 - accuracy: 0.5608 - val_loss: 1.2004 - val_accuracy: 0.5639\n",
      "Epoch 14/80\n",
      "898/898 [==============================] - 39s 43ms/step - loss: 0.1754 - accuracy: 0.5627 - val_loss: 1.2065 - val_accuracy: 0.5478\n",
      "Epoch 15/80\n",
      "898/898 [==============================] - 39s 43ms/step - loss: 0.1740 - accuracy: 0.5646 - val_loss: 1.1739 - val_accuracy: 0.5570\n",
      "Epoch 16/80\n",
      "898/898 [==============================] - 39s 44ms/step - loss: 0.1733 - accuracy: 0.5683 - val_loss: 1.1816 - val_accuracy: 0.5584\n",
      "Epoch 17/80\n",
      "898/898 [==============================] - 39s 43ms/step - loss: 0.1713 - accuracy: 0.5745 - val_loss: 1.1652 - val_accuracy: 0.5653\n",
      "Epoch 18/80\n",
      "898/898 [==============================] - 38s 43ms/step - loss: 0.1721 - accuracy: 0.5680 - val_loss: 1.1735 - val_accuracy: 0.5592\n",
      "Epoch 19/80\n",
      "898/898 [==============================] - 38s 43ms/step - loss: 0.1712 - accuracy: 0.5766 - val_loss: 1.1638 - val_accuracy: 0.5639\n",
      "Epoch 20/80\n",
      "898/898 [==============================] - 42s 46ms/step - loss: 0.1695 - accuracy: 0.5793 - val_loss: 1.1713 - val_accuracy: 0.5642\n",
      "Epoch 21/80\n",
      "898/898 [==============================] - 39s 44ms/step - loss: 0.1686 - accuracy: 0.5764 - val_loss: 1.1708 - val_accuracy: 0.5623\n",
      "Epoch 22/80\n",
      "898/898 [==============================] - 39s 44ms/step - loss: 0.1699 - accuracy: 0.5770 - val_loss: 1.1415 - val_accuracy: 0.5857\n",
      "Epoch 23/80\n",
      "898/898 [==============================] - 37s 41ms/step - loss: 0.1661 - accuracy: 0.5875 - val_loss: 1.1395 - val_accuracy: 0.5743\n",
      "Epoch 24/80\n",
      "898/898 [==============================] - 37s 41ms/step - loss: 0.1676 - accuracy: 0.5851 - val_loss: 1.1751 - val_accuracy: 0.5637\n",
      "Epoch 25/80\n",
      "898/898 [==============================] - 37s 42ms/step - loss: 0.1648 - accuracy: 0.5881 - val_loss: 1.1871 - val_accuracy: 0.5623\n",
      "Epoch 26/80\n",
      "898/898 [==============================] - 37s 41ms/step - loss: 0.1656 - accuracy: 0.5909 - val_loss: 1.1393 - val_accuracy: 0.5762\n",
      "Epoch 27/80\n",
      "898/898 [==============================] - 38s 42ms/step - loss: 0.1640 - accuracy: 0.5886 - val_loss: 1.1919 - val_accuracy: 0.5734\n",
      "Epoch 28/80\n",
      "898/898 [==============================] - 36s 40ms/step - loss: 0.1656 - accuracy: 0.5885 - val_loss: 1.1739 - val_accuracy: 0.5626\n",
      "Epoch 29/80\n",
      "898/898 [==============================] - 36s 40ms/step - loss: 0.1634 - accuracy: 0.5908 - val_loss: 1.1751 - val_accuracy: 0.5548\n",
      "Epoch 30/80\n",
      "898/898 [==============================] - 36s 40ms/step - loss: 0.1633 - accuracy: 0.5973 - val_loss: 1.1476 - val_accuracy: 0.5737\n",
      "Epoch 31/80\n",
      "898/898 [==============================] - 36s 40ms/step - loss: 0.1630 - accuracy: 0.5896 - val_loss: 1.1680 - val_accuracy: 0.5734\n",
      "Epoch 32/80\n",
      "898/898 [==============================] - 36s 40ms/step - loss: 0.1619 - accuracy: 0.5957 - val_loss: 1.1541 - val_accuracy: 0.5776\n",
      "Epoch 33/80\n",
      "898/898 [==============================] - 36s 40ms/step - loss: 0.1624 - accuracy: 0.5965 - val_loss: 1.1601 - val_accuracy: 0.5704\n",
      "Epoch 34/80\n",
      "898/898 [==============================] - 36s 40ms/step - loss: 0.1597 - accuracy: 0.6003 - val_loss: 1.1354 - val_accuracy: 0.5748\n",
      "Epoch 35/80\n",
      "898/898 [==============================] - 36s 40ms/step - loss: 0.1618 - accuracy: 0.5954 - val_loss: 1.1418 - val_accuracy: 0.5745\n",
      "Epoch 36/80\n",
      "898/898 [==============================] - 37s 41ms/step - loss: 0.1615 - accuracy: 0.5990 - val_loss: 1.1187 - val_accuracy: 0.5862\n",
      "Epoch 37/80\n",
      "898/898 [==============================] - 36s 40ms/step - loss: 0.1598 - accuracy: 0.6024 - val_loss: 1.1484 - val_accuracy: 0.5809\n",
      "Epoch 38/80\n",
      "898/898 [==============================] - 35s 39ms/step - loss: 0.1587 - accuracy: 0.6056 - val_loss: 1.1262 - val_accuracy: 0.5768\n",
      "Epoch 39/80\n",
      "898/898 [==============================] - 36s 40ms/step - loss: 0.1582 - accuracy: 0.6067 - val_loss: 1.1712 - val_accuracy: 0.5637\n",
      "Epoch 40/80\n",
      "898/898 [==============================] - 35s 39ms/step - loss: 0.1598 - accuracy: 0.6013 - val_loss: 1.1366 - val_accuracy: 0.5854\n",
      "Epoch 41/80\n",
      "898/898 [==============================] - 35s 40ms/step - loss: 0.1565 - accuracy: 0.6113 - val_loss: 1.1087 - val_accuracy: 0.5921\n",
      "Epoch 42/80\n",
      "898/898 [==============================] - 36s 40ms/step - loss: 0.1605 - accuracy: 0.5988 - val_loss: 1.1242 - val_accuracy: 0.5879\n",
      "Epoch 43/80\n",
      "898/898 [==============================] - 35s 40ms/step - loss: 0.1588 - accuracy: 0.6069 - val_loss: 1.1285 - val_accuracy: 0.5843\n",
      "Epoch 44/80\n",
      "898/898 [==============================] - 36s 40ms/step - loss: 0.1578 - accuracy: 0.6099 - val_loss: 1.1207 - val_accuracy: 0.5756\n",
      "Epoch 45/80\n",
      "898/898 [==============================] - 35s 39ms/step - loss: 0.1569 - accuracy: 0.6042 - val_loss: 1.1086 - val_accuracy: 0.5921\n",
      "Epoch 46/80\n",
      "898/898 [==============================] - 36s 40ms/step - loss: 0.1560 - accuracy: 0.6137 - val_loss: 1.1384 - val_accuracy: 0.5787\n",
      "Epoch 47/80\n",
      "898/898 [==============================] - 35s 39ms/step - loss: 0.1578 - accuracy: 0.6080 - val_loss: 1.1230 - val_accuracy: 0.5834\n",
      "Epoch 48/80\n",
      "898/898 [==============================] - 35s 40ms/step - loss: 0.1570 - accuracy: 0.6061 - val_loss: 1.1305 - val_accuracy: 0.5821\n",
      "Epoch 49/80\n",
      "898/898 [==============================] - 36s 40ms/step - loss: 0.1561 - accuracy: 0.6161 - val_loss: 1.1497 - val_accuracy: 0.5759\n",
      "Epoch 50/80\n",
      "898/898 [==============================] - 36s 40ms/step - loss: 0.1583 - accuracy: 0.6068 - val_loss: 1.1669 - val_accuracy: 0.5662\n",
      "Epoch 51/80\n",
      "898/898 [==============================] - 35s 39ms/step - loss: 0.1575 - accuracy: 0.6118 - val_loss: 1.1303 - val_accuracy: 0.5860\n",
      "Epoch 52/80\n",
      "898/898 [==============================] - 36s 40ms/step - loss: 0.1568 - accuracy: 0.6156 - val_loss: 1.1376 - val_accuracy: 0.5840\n",
      "Epoch 53/80\n",
      "898/898 [==============================] - 37s 41ms/step - loss: 0.1564 - accuracy: 0.6090 - val_loss: 1.1423 - val_accuracy: 0.5790\n",
      "Epoch 54/80\n",
      "898/898 [==============================] - 36s 40ms/step - loss: 0.1556 - accuracy: 0.6150 - val_loss: 1.1208 - val_accuracy: 0.5907\n",
      "Epoch 55/80\n",
      "898/898 [==============================] - 36s 40ms/step - loss: 0.1540 - accuracy: 0.6176 - val_loss: 1.1175 - val_accuracy: 0.5960\n",
      "Epoch 56/80\n",
      "898/898 [==============================] - 36s 40ms/step - loss: 0.1556 - accuracy: 0.6082 - val_loss: 1.1166 - val_accuracy: 0.5901\n",
      "Epoch 57/80\n"
     ]
    },
    {
     "name": "stdout",
     "output_type": "stream",
     "text": [
      "898/898 [==============================] - 35s 39ms/step - loss: 0.1556 - accuracy: 0.6113 - val_loss: 1.1213 - val_accuracy: 0.5929\n",
      "Epoch 58/80\n",
      "898/898 [==============================] - 35s 39ms/step - loss: 0.1544 - accuracy: 0.6137 - val_loss: 1.0880 - val_accuracy: 0.5929\n",
      "Epoch 59/80\n",
      "898/898 [==============================] - 36s 40ms/step - loss: 0.1551 - accuracy: 0.6199 - val_loss: 1.1242 - val_accuracy: 0.5968\n",
      "Epoch 60/80\n",
      "898/898 [==============================] - 35s 40ms/step - loss: 0.1548 - accuracy: 0.6144 - val_loss: 1.1329 - val_accuracy: 0.5876\n",
      "Epoch 61/80\n",
      "898/898 [==============================] - 35s 39ms/step - loss: 0.1534 - accuracy: 0.6179 - val_loss: 1.1175 - val_accuracy: 0.5865\n",
      "Epoch 62/80\n",
      "898/898 [==============================] - 35s 39ms/step - loss: 0.1555 - accuracy: 0.6131 - val_loss: 1.1195 - val_accuracy: 0.5935\n",
      "Epoch 63/80\n",
      "898/898 [==============================] - 35s 39ms/step - loss: 0.1529 - accuracy: 0.6158 - val_loss: 1.1575 - val_accuracy: 0.5846\n",
      "Epoch 64/80\n",
      "898/898 [==============================] - 35s 39ms/step - loss: 0.1519 - accuracy: 0.6240 - val_loss: 1.1535 - val_accuracy: 0.5748\n",
      "Epoch 65/80\n",
      "898/898 [==============================] - 35s 39ms/step - loss: 0.1542 - accuracy: 0.6204 - val_loss: 1.1168 - val_accuracy: 0.5910\n",
      "Epoch 66/80\n",
      "898/898 [==============================] - 36s 41ms/step - loss: 0.1533 - accuracy: 0.6159 - val_loss: 1.1261 - val_accuracy: 0.5929\n",
      "Epoch 67/80\n",
      "898/898 [==============================] - 36s 40ms/step - loss: 0.1547 - accuracy: 0.6156 - val_loss: 1.0810 - val_accuracy: 0.6091\n",
      "Epoch 68/80\n",
      "898/898 [==============================] - 36s 40ms/step - loss: 0.1531 - accuracy: 0.6168 - val_loss: 1.1444 - val_accuracy: 0.5821\n",
      "Epoch 69/80\n",
      "898/898 [==============================] - 36s 41ms/step - loss: 0.1527 - accuracy: 0.6182 - val_loss: 1.1417 - val_accuracy: 0.5837\n",
      "Epoch 70/80\n",
      "898/898 [==============================] - 38s 42ms/step - loss: 0.1528 - accuracy: 0.6178 - val_loss: 1.1207 - val_accuracy: 0.5887\n",
      "Epoch 71/80\n",
      "898/898 [==============================] - 36s 40ms/step - loss: 0.1521 - accuracy: 0.6205 - val_loss: 1.0979 - val_accuracy: 0.5940\n",
      "Epoch 72/80\n",
      "898/898 [==============================] - 36s 40ms/step - loss: 0.1509 - accuracy: 0.6279 - val_loss: 1.1079 - val_accuracy: 0.5921\n",
      "Epoch 73/80\n",
      "898/898 [==============================] - 38s 42ms/step - loss: 0.1509 - accuracy: 0.6245 - val_loss: 1.1249 - val_accuracy: 0.5840\n",
      "Epoch 74/80\n",
      "898/898 [==============================] - 37s 42ms/step - loss: 0.1495 - accuracy: 0.6282 - val_loss: 1.0867 - val_accuracy: 0.6063\n",
      "Epoch 75/80\n",
      "898/898 [==============================] - 36s 40ms/step - loss: 0.1505 - accuracy: 0.6242 - val_loss: 1.0890 - val_accuracy: 0.5952\n",
      "Epoch 76/80\n",
      "898/898 [==============================] - 36s 40ms/step - loss: 0.1513 - accuracy: 0.6232 - val_loss: 1.1521 - val_accuracy: 0.5801\n",
      "Epoch 77/80\n",
      "898/898 [==============================] - 36s 40ms/step - loss: 0.1516 - accuracy: 0.6259 - val_loss: 1.0877 - val_accuracy: 0.6102\n",
      "Epoch 78/80\n",
      "898/898 [==============================] - 36s 40ms/step - loss: 0.1507 - accuracy: 0.6243 - val_loss: 1.1180 - val_accuracy: 0.5971\n",
      "Epoch 79/80\n",
      "898/898 [==============================] - 36s 40ms/step - loss: 0.1516 - accuracy: 0.6231 - val_loss: 1.1450 - val_accuracy: 0.5748\n",
      "Epoch 80/80\n",
      "898/898 [==============================] - 36s 40ms/step - loss: 0.1519 - accuracy: 0.6216 - val_loss: 1.1121 - val_accuracy: 0.5921\n"
     ]
    }
   ],
   "source": [
    "history = model.fit(datagen.flow(train_images , train_labels),\n",
    "                    validation_data=datagen.flow(val_images, val_labels),\n",
    "                    epochs=80,\n",
    "                    class_weight = class_weight,\n",
    "                    batch_size= batch_size)"
   ]
  },
  {
   "cell_type": "code",
   "execution_count": 22,
   "metadata": {},
   "outputs": [
    {
     "data": {
      "image/png": "[encoded data removed]",
      "text/plain": [
       "<Figure size 432x288 with 1 Axes>"
      ]
     },
     "metadata": {
      "needs_background": "light"
     },
     "output_type": "display_data"
    }
   ],
   "source": [
    "# Plot training and validation accuracy\n",
    "plt.plot(history.history['accuracy'])\n",
    "plt.plot(history.history['val_accuracy'])\n",
    "plt.title('Model accuracy')\n",
    "plt.ylabel('Accuracy')\n",
    "plt.xlabel('Epoch')\n",
    "plt.legend(['Train', 'Val'], loc='upper left')\n",
    "# plt.ylim(0, 1)\n",
    "plt.show()"
   ]
  },
  {
   "cell_type": "code",
   "execution_count": 23,
   "metadata": {},
   "outputs": [
    {
     "data": {
      "image/png": "[encoded data removed]",
      "text/plain": [
       "<Figure size 432x288 with 1 Axes>"
      ]
     },
     "metadata": {
      "needs_background": "light"
     },
     "output_type": "display_data"
    }
   ],
   "source": [
    "# Plot training and test loss\n",
    "plt.plot(history.history['loss']) \n",
    "plt.plot(history.history['val_loss']) \n",
    "plt.title('Model loss') \n",
    "plt.ylabel('Loss') \n",
    "plt.xlabel('Epoch') \n",
    "plt.legend(['Train', 'Val'], loc='upper left') \n",
    "plt.show()"
   ]
  },
  {
   "cell_type": "code",
   "execution_count": null,
   "metadata": {},
   "outputs": [],
   "source": []
  },
  {
   "cell_type": "code",
   "execution_count": null,
   "metadata": {},
   "outputs": [],
   "source": []
  },
  {
   "cell_type": "code",
   "execution_count": null,
   "metadata": {},
   "outputs": [],
   "source": []
  },
  {
   "cell_type": "code",
   "execution_count": null,
   "metadata": {},
   "outputs": [],
   "source": []
  },
  {
   "cell_type": "code",
   "execution_count": null,
   "metadata": {},
   "outputs": [],
   "source": []
  },
  {
   "cell_type": "code",
   "execution_count": null,
   "metadata": {},
   "outputs": [],
   "source": []
  }
 ],
 "metadata": {
  "kernelspec": {
   "display_name": "Python 3",
   "language": "python",
   "name": "python3"
  },
  "language_info": {
   "codemirror_mode": {
    "name": "ipython",
    "version": 3
   },
   "file_extension": ".py",
   "mimetype": "text/x-python",
   "name": "python",
   "nbconvert_exporter": "python",
   "pygments_lexer": "ipython3",
   "version": "3.8.3"
  }
 },
 "nbformat": 4,
 "nbformat_minor": 4
}
