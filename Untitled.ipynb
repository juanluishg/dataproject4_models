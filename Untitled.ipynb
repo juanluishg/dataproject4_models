{
 "cells": [
  {
   "cell_type": "code",
   "execution_count": 1,
   "id": "healthy-value",
   "metadata": {},
   "outputs": [],
   "source": [
    "import pandas as pd\n",
    "import numpy as np\n",
    "from matplotlib import pyplot as plt\n",
    "import scipy.io as sio\n",
    "import cv2"
   ]
  },
  {
   "cell_type": "code",
   "execution_count": 2,
   "id": "digital-divide",
   "metadata": {},
   "outputs": [],
   "source": [
    "matstruct_contents = sio.loadmat(\"raw_data/EMOTIC DATASET/Annotations/Annotations.mat\")\n",
    "teststruct = matstruct_contents['test']"
   ]
  },
  {
   "cell_type": "code",
   "execution_count": 6,
   "id": "unavailable-beijing",
   "metadata": {},
   "outputs": [
    {
     "data": {
      "text/plain": [
       "(array(['COCO_train2014_000000449158.jpg'], dtype='<U31'), array(['mscoco/images'], dtype='<U13'), array([[(array([[640]], dtype=uint16), array([[480]], dtype=uint16))]],\n",
       "      dtype=[('n_col', 'O'), ('n_row', 'O')]), array([[(array(['mscoco'], dtype='<U6'), array([[(array([[449158]]), array([[199459]]))]],\n",
       "      dtype=[('image_id', 'O'), ('annotations_id', 'O')]))]],\n",
       "      dtype=[('name', 'O'), ('info', 'O')]), array([[(array([[379, 210, 520, 479]], dtype=uint16), array([[(array([[array(['Doubt/Confusion'], dtype='<U15'),\n",
       "        array(['Embarrassment'], dtype='<U13'),\n",
       "        array(['Fatigue'], dtype='<U7'),\n",
       "        array(['Disapproval'], dtype='<U11')]], dtype=object),),\n",
       "        (array([[array(['Disconnection'], dtype='<U13')]], dtype=object),),\n",
       "        (array([[array(['Happiness'], dtype='<U9'),\n",
       "        array(['Esteem'], dtype='<U6'),\n",
       "        array(['Excitement'], dtype='<U10'),\n",
       "        array(['Pleasure'], dtype='<U8'), array(['Peace'], dtype='<U5')]],\n",
       "      dtype=object),)]], dtype=[('categories', 'O')]), array([[array(['Disapproval'], dtype='<U11'),\n",
       "        array(['Disconnection'], dtype='<U13'),\n",
       "        array(['Doubt/Confusion'], dtype='<U15'),\n",
       "        array(['Embarrassment'], dtype='<U13'),\n",
       "        array(['Esteem'], dtype='<U6'),\n",
       "        array(['Excitement'], dtype='<U10'),\n",
       "        array(['Fatigue'], dtype='<U7'),\n",
       "        array(['Happiness'], dtype='<U9'), array(['Peace'], dtype='<U5'),\n",
       "        array(['Pleasure'], dtype='<U8')]], dtype=object), array([[(array([[5]], dtype=uint8), array([[3]], dtype=uint8), array([[5]], dtype=uint8)),\n",
       "        (array([[5]], dtype=uint8), array([[4]], dtype=uint8), array([[7]], dtype=uint8)),\n",
       "        (array([[5]], dtype=uint8), array([[5]], dtype=uint8), array([[6]], dtype=uint8))]],\n",
       "      dtype=[('valence', 'O'), ('arousal', 'O'), ('dominance', 'O')]), array([[(array([[5]], dtype=uint8), array([[4]], dtype=uint8), array([[6]], dtype=uint8))]],\n",
       "      dtype=[('valence', 'O'), ('arousal', 'O'), ('dominance', 'O')]), array(['Female'], dtype='<U6'), array(['Teenager'], dtype='<U8')),\n",
       "        (array([[463, 197, 604, 473]], dtype=uint16), array([[(array([[array(['Anticipation'], dtype='<U12'),\n",
       "        array(['Pleasure'], dtype='<U8'),\n",
       "        array(['Engagement'], dtype='<U10')]], dtype=object),),\n",
       "        (array([[array(['Disconnection'], dtype='<U13')]], dtype=object),),\n",
       "        (array([[array(['Anticipation'], dtype='<U12'),\n",
       "        array(['Excitement'], dtype='<U10'),\n",
       "        array(['Yearning'], dtype='<U8')]], dtype=object),)]],\n",
       "      dtype=[('categories', 'O')]), array([[array(['Anticipation'], dtype='<U12'),\n",
       "        array(['Disconnection'], dtype='<U13'),\n",
       "        array(['Engagement'], dtype='<U10'),\n",
       "        array(['Excitement'], dtype='<U10'),\n",
       "        array(['Pleasure'], dtype='<U8'),\n",
       "        array(['Yearning'], dtype='<U8')]], dtype=object), array([[(array([[4]], dtype=uint8), array([[5]], dtype=uint8), array([[4]], dtype=uint8)),\n",
       "        (array([[5]], dtype=uint8), array([[4]], dtype=uint8), array([[7]], dtype=uint8)),\n",
       "        (array([[4]], dtype=uint8), array([[5]], dtype=uint8), array([[6]], dtype=uint8))]],\n",
       "      dtype=[('valence', 'O'), ('arousal', 'O'), ('dominance', 'O')]), array([[(array([[4]], dtype=uint8), array([[5]], dtype=uint8), array([[6]], dtype=uint8))]],\n",
       "      dtype=[('valence', 'O'), ('arousal', 'O'), ('dominance', 'O')]), array(['Male'], dtype='<U4'), array(['Adult'], dtype='<U5'))]],\n",
       "      dtype=[('body_bbox', 'O'), ('annotations_categories', 'O'), ('combined_categories', 'O'), ('annotations_continuous', 'O'), ('combined_continuous', 'O'), ('gender', 'O'), ('age', 'O')]))"
      ]
     },
     "execution_count": 6,
     "metadata": {},
     "output_type": "execute_result"
    }
   ],
   "source": [
    "teststruct[0,1]"
   ]
  },
  {
   "cell_type": "code",
   "execution_count": 4,
   "id": "described-physiology",
   "metadata": {},
   "outputs": [
    {
     "data": {
      "text/plain": [
       "array([[(array([[379, 210, 520, 479]], dtype=uint16), array([[(array([[array(['Doubt/Confusion'], dtype='<U15'),\n",
       "        array(['Embarrassment'], dtype='<U13'),\n",
       "        array(['Fatigue'], dtype='<U7'),\n",
       "        array(['Disapproval'], dtype='<U11')]], dtype=object),),\n",
       "        (array([[array(['Disconnection'], dtype='<U13')]], dtype=object),),\n",
       "        (array([[array(['Happiness'], dtype='<U9'),\n",
       "        array(['Esteem'], dtype='<U6'),\n",
       "        array(['Excitement'], dtype='<U10'),\n",
       "        array(['Pleasure'], dtype='<U8'), array(['Peace'], dtype='<U5')]],\n",
       "      dtype=object),)]], dtype=[('categories', 'O')]), array([[array(['Disapproval'], dtype='<U11'),\n",
       "        array(['Disconnection'], dtype='<U13'),\n",
       "        array(['Doubt/Confusion'], dtype='<U15'),\n",
       "        array(['Embarrassment'], dtype='<U13'),\n",
       "        array(['Esteem'], dtype='<U6'),\n",
       "        array(['Excitement'], dtype='<U10'),\n",
       "        array(['Fatigue'], dtype='<U7'),\n",
       "        array(['Happiness'], dtype='<U9'), array(['Peace'], dtype='<U5'),\n",
       "        array(['Pleasure'], dtype='<U8')]], dtype=object), array([[(array([[5]], dtype=uint8), array([[3]], dtype=uint8), array([[5]], dtype=uint8)),\n",
       "        (array([[5]], dtype=uint8), array([[4]], dtype=uint8), array([[7]], dtype=uint8)),\n",
       "        (array([[5]], dtype=uint8), array([[5]], dtype=uint8), array([[6]], dtype=uint8))]],\n",
       "      dtype=[('valence', 'O'), ('arousal', 'O'), ('dominance', 'O')]), array([[(array([[5]], dtype=uint8), array([[4]], dtype=uint8), array([[6]], dtype=uint8))]],\n",
       "      dtype=[('valence', 'O'), ('arousal', 'O'), ('dominance', 'O')]), array(['Female'], dtype='<U6'), array(['Teenager'], dtype='<U8')),\n",
       "        (array([[463, 197, 604, 473]], dtype=uint16), array([[(array([[array(['Anticipation'], dtype='<U12'),\n",
       "        array(['Pleasure'], dtype='<U8'),\n",
       "        array(['Engagement'], dtype='<U10')]], dtype=object),),\n",
       "        (array([[array(['Disconnection'], dtype='<U13')]], dtype=object),),\n",
       "        (array([[array(['Anticipation'], dtype='<U12'),\n",
       "        array(['Excitement'], dtype='<U10'),\n",
       "        array(['Yearning'], dtype='<U8')]], dtype=object),)]],\n",
       "      dtype=[('categories', 'O')]), array([[array(['Anticipation'], dtype='<U12'),\n",
       "        array(['Disconnection'], dtype='<U13'),\n",
       "        array(['Engagement'], dtype='<U10'),\n",
       "        array(['Excitement'], dtype='<U10'),\n",
       "        array(['Pleasure'], dtype='<U8'),\n",
       "        array(['Yearning'], dtype='<U8')]], dtype=object), array([[(array([[4]], dtype=uint8), array([[5]], dtype=uint8), array([[4]], dtype=uint8)),\n",
       "        (array([[5]], dtype=uint8), array([[4]], dtype=uint8), array([[7]], dtype=uint8)),\n",
       "        (array([[4]], dtype=uint8), array([[5]], dtype=uint8), array([[6]], dtype=uint8))]],\n",
       "      dtype=[('valence', 'O'), ('arousal', 'O'), ('dominance', 'O')]), array([[(array([[4]], dtype=uint8), array([[5]], dtype=uint8), array([[6]], dtype=uint8))]],\n",
       "      dtype=[('valence', 'O'), ('arousal', 'O'), ('dominance', 'O')]), array(['Male'], dtype='<U4'), array(['Adult'], dtype='<U5'))]],\n",
       "      dtype=[('body_bbox', 'O'), ('annotations_categories', 'O'), ('combined_categories', 'O'), ('annotations_continuous', 'O'), ('combined_continuous', 'O'), ('gender', 'O'), ('age', 'O')])"
      ]
     },
     "execution_count": 4,
     "metadata": {},
     "output_type": "execute_result"
    }
   ],
   "source": [
    "teststruct[0,1][\"person\"]"
   ]
  }
 ],
 "metadata": {
  "kernelspec": {
   "display_name": "Python 3",
   "language": "python",
   "name": "python3"
  },
  "language_info": {
   "codemirror_mode": {
    "name": "ipython",
    "version": 3
   },
   "file_extension": ".py",
   "mimetype": "text/x-python",
   "name": "python",
   "nbconvert_exporter": "python",
   "pygments_lexer": "ipython3",
   "version": "3.8.8"
  }
 },
 "nbformat": 4,
 "nbformat_minor": 5
}
