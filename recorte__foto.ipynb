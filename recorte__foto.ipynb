{
 "cells": [
  {
   "cell_type": "code",
   "execution_count": 1,
   "metadata": {
    "colab": {
     "base_uri": "https://localhost:8080/"
    },
    "id": "xbfnlyfXCJog",
    "outputId": "23fade27-ea94-4a4b-bc0c-2bacdc2667f5"
   },
   "outputs": [],
   "source": [
    "#!pip install MTCNN\n",
    "#!pip install keras_vggface\n",
    "#!pip install keras_applications\n",
    "# MTCNN es una libreria que detecta las caras con sus respectivas coordenadas en una imagen\n",
    "from mtcnn import MTCNN\n",
    "# VGG-FACE es un modelo preentrenado de reconocimiento facial\n",
    "import keras_vggface\n",
    "from keras_vggface.vggface import VGGFace\n",
    "from keras_vggface.utils import preprocess_input\n",
    "import tensorflow as tf\n",
    "from tensorflow import keras\n",
    "from fastai.vision import *\n",
    "\n",
    "import cv2\n",
    "import matplotlib.pyplot as plt\n",
    "import numpy as np"
   ]
  },
  {
   "cell_type": "code",
   "execution_count": 2,
   "metadata": {
    "id": "A_xjFu-ECOsD"
   },
   "outputs": [],
   "source": [
    "# creamos una instancia del detector\n",
    "detector = MTCNN()"
   ]
  },
  {
   "cell_type": "code",
   "execution_count": 4,
   "metadata": {
    "colab": {
     "base_uri": "https://localhost:8080/",
     "height": 178
    },
    "id": "637FCVBfCRWn",
    "outputId": "93bed802-91e5-470f-eefc-616395bda8af"
   },
   "outputs": [],
   "source": [
    "img = cv2.imread('./prueba.jpg')"
   ]
  },
  {
   "cell_type": "code",
   "execution_count": 6,
   "metadata": {
    "id": "O18ZViNqCTSj"
   },
   "outputs": [
    {
     "name": "stdout",
     "output_type": "stream",
     "text": [
      "WARNING:tensorflow:5 out of the last 11 calls to <function Model.make_predict_function.<locals>.predict_function at 0x000002065377B700> triggered tf.function retracing. Tracing is expensive and the excessive number of tracings could be due to (1) creating @tf.function repeatedly in a loop, (2) passing tensors with different shapes, (3) passing Python objects instead of tensors. For (1), please define your @tf.function outside of the loop. For (2), @tf.function has experimental_relax_shapes=True option that relaxes argument shapes that can avoid unnecessary retracing. For (3), please refer to https://www.tensorflow.org/guide/function#controlling_retracing and https://www.tensorflow.org/api_docs/python/tf/function for  more details.\n",
      "[{'box': [152, 53, 78, 115], 'confidence': 0.9966482520103455, 'keypoints': {'left_eye': (168, 92), 'right_eye': (203, 94), 'nose': (177, 114), 'mouth_left': (170, 136), 'mouth_right': (200, 137)}}]\n"
     ]
    }
   ],
   "source": [
    "# pasamos el detector de caras para extraer la imagen recortada\n",
    "results = detector.detect_faces(img)\n",
    "print(results)"
   ]
  },
  {
   "cell_type": "code",
   "execution_count": 9,
   "metadata": {
    "id": "cV5C-MwpCUIn"
   },
   "outputs": [],
   "source": [
    "x, y, w, h = results[0]['box']"
   ]
  },
  {
   "cell_type": "code",
   "execution_count": 10,
   "metadata": {
    "id": "MiUw73D8Cbvz"
   },
   "outputs": [],
   "source": [
    "img= cv2.cvtColor(img, cv2.COLOR_BGR2GRAY)\n",
    "cara = img[y: y+h, x: x+w]"
   ]
  },
  {
   "cell_type": "code",
   "execution_count": null,
   "metadata": {},
   "outputs": [],
   "source": []
  }
 ],
 "metadata": {
  "colab": {
   "name": "recorte _foto.ipynb",
   "provenance": []
  },
  "kernelspec": {
   "display_name": "Python 3",
   "language": "python",
   "name": "python3"
  },
  "language_info": {
   "codemirror_mode": {
    "name": "ipython",
    "version": 3
   },
   "file_extension": ".py",
   "mimetype": "text/x-python",
   "name": "python",
   "nbconvert_exporter": "python",
   "pygments_lexer": "ipython3",
   "version": "3.8.3"
  }
 },
 "nbformat": 4,
 "nbformat_minor": 1
}
